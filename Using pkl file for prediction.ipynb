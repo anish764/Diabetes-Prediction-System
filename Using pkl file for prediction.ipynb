{
 "cells": [
  {
   "cell_type": "markdown",
   "id": "3846f058-554f-4cf5-b79d-df5fc80b5128",
   "metadata": {},
   "source": [
    "# Importing the neccessary libraries"
   ]
  },
  {
   "cell_type": "code",
   "execution_count": 1,
   "id": "6de5c882-05c6-4ce8-9c88-0054d111a801",
   "metadata": {},
   "outputs": [],
   "source": [
    "from pickle import *\n",
    "import os"
   ]
  },
  {
   "cell_type": "markdown",
   "id": "b14fd1fa-04e0-40a6-b995-3aa590bb2313",
   "metadata": {},
   "source": [
    "# Ignoring the Warnings"
   ]
  },
  {
   "cell_type": "code",
   "execution_count": 6,
   "id": "28a60c74-cf13-4ca1-9687-f3a01de40f58",
   "metadata": {},
   "outputs": [],
   "source": [
    "import warnings\n",
    "warnings.filterwarnings(\"ignore\", message=\"X does not have valid feature names\")"
   ]
  },
  {
   "cell_type": "code",
   "execution_count": 2,
   "id": "ab286cb5-ce9c-4e0c-a180-7da6650d65aa",
   "metadata": {},
   "outputs": [],
   "source": [
    "fn = \"dia_lr.pkl\""
   ]
  },
  {
   "cell_type": "markdown",
   "id": "a120ad7e-51fe-4890-b2b4-05a7585e1cce",
   "metadata": {},
   "source": [
    "# Model Prediction"
   ]
  },
  {
   "cell_type": "code",
   "execution_count": 26,
   "id": "3779959a-ade2-491c-88df-70e166341cb6",
   "metadata": {},
   "outputs": [
    {
     "name": "stdin",
     "output_type": "stream",
     "text": [
      "Enter the Fasting Sugar value\n",
      " 154\n",
      "Enter the Fasting Urin value\n",
      "Enter 1 for Yes\n",
      "2 for No\n",
      " 2\n"
     ]
    },
    {
     "name": "stdout",
     "output_type": "stream",
     "text": [
      "Your have a chance of Diabetes\n"
     ]
    }
   ],
   "source": [
    "if os.path.exists:\n",
    "    f = open(fn, \"rb\")\n",
    "    model = load(f)\n",
    "    f.close()\n",
    "\n",
    "    fs = float(input(\"Enter the Fasting Sugar value\\n\"))\n",
    "    fu = int(input(\"Enter the Fasting Urin value\\nEnter 1 for Yes\\n2 for No\\n\"))\n",
    "\n",
    "    if fu == 1:\n",
    "        d = [[fs,1]]\n",
    "\n",
    "    else:\n",
    "        d = [[fs,0]]\n",
    "\n",
    "    result = model.predict(d)\n",
    "    \n",
    "    if result == \"YES\":\n",
    "        print(\"Your have a chance of Diabetes\")\n",
    "    elif result == \"NO\":\n",
    "        print(\"You don't have Diabetes\")\n",
    "\n",
    "else:\n",
    "    print(fs, \"Does not exists\")    "
   ]
  },
  {
   "cell_type": "code",
   "execution_count": null,
   "id": "b0e9f8d4-153b-49dd-b32b-afc4ddbd37a2",
   "metadata": {},
   "outputs": [],
   "source": []
  }
 ],
 "metadata": {
  "kernelspec": {
   "display_name": "Python 3 (ipykernel)",
   "language": "python",
   "name": "python3"
  },
  "language_info": {
   "codemirror_mode": {
    "name": "ipython",
    "version": 3
   },
   "file_extension": ".py",
   "mimetype": "text/x-python",
   "name": "python",
   "nbconvert_exporter": "python",
   "pygments_lexer": "ipython3",
   "version": "3.11.9"
  }
 },
 "nbformat": 4,
 "nbformat_minor": 5
}
